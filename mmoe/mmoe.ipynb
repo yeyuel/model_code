{
 "cells": [
  {
   "cell_type": "code",
   "execution_count": 3,
   "metadata": {},
   "outputs": [],
   "source": [
    "import numpy as np\n",
    "import tensorflow as tf\n",
    "from tensorflow.keras.layers import Input\n",
    "\n",
    "tf.enable_eager_execution()"
   ]
  },
  {
   "cell_type": "code",
   "execution_count": 7,
   "metadata": {},
   "outputs": [
    {
     "data": {
      "text/plain": [
       "<tf.Tensor: id=2, shape=(4, 2, 3), dtype=float64, numpy=\n",
       "array([[[1. , 1. , 1. ],\n",
       "        [2. , 2. , 1. ]],\n",
       "\n",
       "       [[0.1, 0.5, 1. ],\n",
       "        [0.4, 0.1, 1. ]],\n",
       "\n",
       "       [[1. , 1. , 1. ],\n",
       "        [2. , 2. , 1. ]],\n",
       "\n",
       "       [[0. , 1. , 6. ],\n",
       "        [0. , 2. , 0. ]]])>"
      ]
     },
     "execution_count": 7,
     "metadata": {},
     "output_type": "execute_result"
    }
   ],
   "source": [
    "# 4 input features 3 num experts 2 num tasks\n",
    "expert_kernels = tf.constant([\n",
    "    [[1., 1., 1.], [2., 2., 1.]], \\\n",
    "    [[0.1, 0.5, 1.], [0.4, 0.1, 1.]], \\\n",
    "    [[1., 1., 1.], [2., 2., 1.]], \\\n",
    "    [[0., 1., 6.], [0., 2., 0.]]\n",
    "    ], dtype=tf.float64)\n",
    "expert_kernels"
   ]
  },
  {
   "cell_type": "code",
   "execution_count": 9,
   "metadata": {},
   "outputs": [
    {
     "data": {
      "text/plain": [
       "[<tf.Tensor: id=3, shape=(4, 3), dtype=float64, numpy=\n",
       " array([[0.1, 0.5, 1. ],\n",
       "        [0.4, 0.1, 1. ],\n",
       "        [1. , 1. , 1. ],\n",
       "        [2. , 2. , 1. ]])>,\n",
       " <tf.Tensor: id=4, shape=(4, 3), dtype=float64, numpy=\n",
       " array([[1. , 2. , 1. ],\n",
       "        [4. , 0.2, 1.5],\n",
       "        [2. , 1. , 0. ],\n",
       "        [5. , 2. , 1. ]])>]"
      ]
     },
     "execution_count": 9,
     "metadata": {},
     "output_type": "execute_result"
    }
   ],
   "source": [
    "gate_kernels= [tf.constant([[0.1, 0.5, 1.], [0.4, 0.1, 1.], [1., 1., 1.], [2., 2., 1.]], dtype=tf.float64), tf.constant([[1., 2., 1.], [4., 0.2, 1.5], [2., 1., 0.], [5., 2., 1.]], dtype=tf.float64)]\n",
    "gate_kernels"
   ]
  },
  {
   "cell_type": "code",
   "execution_count": 10,
   "metadata": {},
   "outputs": [
    {
     "data": {
      "text/plain": [
       "<tf.Tensor: id=5, shape=(2, 4), dtype=float64, numpy=\n",
       "array([[1. , 2. , 1. , 0. ],\n",
       "       [4. , 0.2, 1. , 1. ]])>"
      ]
     },
     "execution_count": 10,
     "metadata": {},
     "output_type": "execute_result"
    }
   ],
   "source": [
    "inputs = tf.constant([[1., 2., 1., 0.], [4., 0.2, 1., 1.]], dtype=tf.float64)\n",
    "inputs"
   ]
  },
  {
   "cell_type": "code",
   "execution_count": 11,
   "metadata": {},
   "outputs": [
    {
     "data": {
      "text/plain": [
       "<tf.Tensor: id=16, shape=(2, 2, 3), dtype=float64, numpy=\n",
       "array([[[ 2.2 ,  3.  ,  4.  ],\n",
       "        [ 4.8 ,  4.2 ,  4.  ]],\n",
       "\n",
       "       [[ 5.02,  6.1 , 11.2 ],\n",
       "        [10.08, 12.02,  5.2 ]]])>"
      ]
     },
     "execution_count": 11,
     "metadata": {},
     "output_type": "execute_result"
    }
   ],
   "source": [
    "expert_outputs = tf.tensordot(a=inputs, b=expert_kernels, axes=1)\n",
    "expert_outputs # 2 sample, 2 tasks, 3 experts"
   ]
  },
  {
   "cell_type": "code",
   "execution_count": 13,
   "metadata": {},
   "outputs": [],
   "source": [
    "import tensorflow.keras.backend as K"
   ]
  },
  {
   "cell_type": "code",
   "execution_count": 14,
   "metadata": {},
   "outputs": [
    {
     "data": {
      "text/plain": [
       "<tf.Tensor: id=20, shape=(2, 2, 3), dtype=float64, numpy=\n",
       "array([[[1.00151222e-01, 8.19968851e-02, 8.17851893e-01],\n",
       "        [4.79733364e-02, 2.23775958e-01, 7.28250705e-01]],\n",
       "\n",
       "       [[9.98589658e-01, 4.99745626e-04, 9.10595901e-04],\n",
       "        [6.80656487e-01, 3.18320187e-01, 1.02332564e-03]]])>"
      ]
     },
     "execution_count": 14,
     "metadata": {},
     "output_type": "execute_result"
    }
   ],
   "source": [
    "gate_outputs = []\n",
    "\n",
    "for index, gate_kernel in enumerate(gate_kernels):\n",
    "    gate_output = K.dot(x=inputs, y=gate_kernel)\n",
    "    gate_outputs.append(gate_output)\n",
    "gate_outputs = tf.nn.softmax(gate_outputs)\n",
    "gate_outputs"
   ]
  },
  {
   "cell_type": "code",
   "execution_count": 15,
   "metadata": {},
   "outputs": [
    {
     "data": {
      "text/plain": [
       "[<tf.Tensor: id=34, shape=(2, 2), dtype=float64, numpy=\n",
       " array([[3.73773092, 4.09652035],\n",
       "        [9.76226739, 6.96026192]])>,\n",
       " <tf.Tensor: id=48, shape=(2, 2), dtype=float64, numpy=\n",
       " array([[ 2.20203887,  4.79897168],\n",
       "        [ 5.37010995, 10.69254733]])>]"
      ]
     },
     "execution_count": 15,
     "metadata": {},
     "output_type": "execute_result"
    }
   ],
   "source": [
    "final_outputs = []\n",
    "hidden_units = 2\n",
    "\n",
    "for gate_output in gate_outputs:\n",
    "    expanded_gate_output = K.expand_dims(gate_output, axis=1)\n",
    "    weighted_expert_output = expert_outputs * K.repeat_elements(expanded_gate_output, hidden_units, axis=1)\n",
    "    final_outputs.append(K.sum(weighted_expert_output, axis=2))\n",
    "final_outputs"
   ]
  }
 ],
 "metadata": {
  "kernelspec": {
   "display_name": "Python 3",
   "language": "python",
   "name": "python3"
  },
  "language_info": {
   "codemirror_mode": {
    "name": "ipython",
    "version": 3
   },
   "file_extension": ".py",
   "mimetype": "text/x-python",
   "name": "python",
   "nbconvert_exporter": "python",
   "pygments_lexer": "ipython3",
   "version": "3.7.6"
  }
 },
 "nbformat": 4,
 "nbformat_minor": 4
}
